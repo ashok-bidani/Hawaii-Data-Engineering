{
 "cells": [
  {
   "cell_type": "code",
   "execution_count": 1,
   "metadata": {},
   "outputs": [],
   "source": [
    "import pandas as pd\n",
    "# Import SQLAlchemy `automap` and other dependencies\n",
    "import sqlalchemy\n",
    "from sqlalchemy.ext.automap import automap_base\n",
    "from sqlalchemy.orm import Session\n",
    "from sqlalchemy import create_engine, inspect, Column, Integer, String, Float, ForeignKey, func\n",
    "import sqlite3\n",
    "\n",
    "from sqlalchemy.ext.declarative import declarative_base\n",
    "Base = declarative_base()\n",
    "\n",
    "import datetime as dt\n",
    "import matplotlib.pyplot as plt\n",
    "import seaborn as sns\n",
    "from dateutil.parser import parse"
   ]
  },
  {
   "cell_type": "markdown",
   "metadata": {},
   "source": [
    "#### Connect to the SQLite database"
   ]
  },
  {
   "cell_type": "code",
   "execution_count": 2,
   "metadata": {},
   "outputs": [],
   "source": [
    "engine = create_engine(\"sqlite:///Resources/hawaii.sqlite\")\n",
    "\n",
    "#Create the database\n",
    "Base.metadata.create_all(engine)"
   ]
  },
  {
   "cell_type": "markdown",
   "metadata": {},
   "source": [
    "#### Reflect Database into ORM classes"
   ]
  },
  {
   "cell_type": "code",
   "execution_count": 3,
   "metadata": {},
   "outputs": [
    {
     "data": {
      "text/plain": [
       "['measurement', 'station']"
      ]
     },
     "execution_count": 3,
     "metadata": {},
     "output_type": "execute_result"
    }
   ],
   "source": [
    "Base = automap_base()\n",
    "Base.prepare(engine, reflect=True)\n",
    "Base.classes.keys()"
   ]
  },
  {
   "cell_type": "code",
   "execution_count": 4,
   "metadata": {},
   "outputs": [],
   "source": [
    "# Map Measurement class\n",
    "Measurement = Base.classes.measurement"
   ]
  },
  {
   "cell_type": "code",
   "execution_count": 5,
   "metadata": {},
   "outputs": [],
   "source": [
    "# Map Station class\n",
    "Station = Base.classes.station"
   ]
  },
  {
   "cell_type": "code",
   "execution_count": 6,
   "metadata": {},
   "outputs": [],
   "source": [
    "# create a session\n",
    "session = Session(engine)"
   ]
  },
  {
   "cell_type": "markdown",
   "metadata": {},
   "source": [
    "### Climate Analysis and Exploration"
   ]
  },
  {
   "cell_type": "code",
   "execution_count": 7,
   "metadata": {},
   "outputs": [
    {
     "name": "stdout",
     "output_type": "stream",
     "text": [
      "type in start date (Month-day-Year7-21-2018\n"
     ]
    }
   ],
   "source": [
    "start_date = input(\"type in start date (Month-day-Year\").lower()"
   ]
  },
  {
   "cell_type": "code",
   "execution_count": 8,
   "metadata": {},
   "outputs": [
    {
     "name": "stdout",
     "output_type": "stream",
     "text": [
      "type in end date (Month-day-Year7-28-2018\n"
     ]
    }
   ],
   "source": [
    "end_date = input(\"type in end date (Month-day-Year\").lower()"
   ]
  },
  {
   "cell_type": "markdown",
   "metadata": {},
   "source": [
    "### Precipitation Analysis"
   ]
  },
  {
   "cell_type": "code",
   "execution_count": 9,
   "metadata": {},
   "outputs": [
    {
     "name": "stdout",
     "output_type": "stream",
     "text": [
      "(datetime.date(2017, 8, 23),)\n"
     ]
    }
   ],
   "source": [
    "# last date recorded\n",
    "for row in session.query(func.max(Measurement.date).label('maxdate')).all():\n",
    "    print(row)"
   ]
  },
  {
   "cell_type": "markdown",
   "metadata": {},
   "source": [
    " #### Therefore, last 12 months would be from '2016-08-23' to '2017-08-23'"
   ]
  },
  {
   "cell_type": "code",
   "execution_count": 10,
   "metadata": {},
   "outputs": [
    {
     "name": "stdout",
     "output_type": "stream",
     "text": [
      " '('USC00516128', datetime.date(2016, 8, 31), 2.46)'\n",
      " '('USC00516128', datetime.date(2016, 9, 30), 0.38)'\n",
      " '('USC00516128', datetime.date(2016, 10, 31), 1.35)'\n",
      " '('USC00516128', datetime.date(2016, 11, 30), 0.79)'\n",
      " '('USC00516128', datetime.date(2016, 12, 31), 0.9)'\n",
      " '('USC00516128', datetime.date(2017, 1, 31), 0.0)'\n",
      " '('USC00516128', datetime.date(2017, 2, 28), 0.58)'\n",
      " '('USC00516128', datetime.date(2017, 3, 29), 0.07)'\n",
      " '('USC00516128', datetime.date(2017, 4, 30), 0.8)'\n",
      " '('USC00516128', datetime.date(2017, 5, 28), 0.0)'\n",
      " '('USC00516128', datetime.date(2017, 6, 30), 0.2)'\n",
      " '('USC00516128', datetime.date(2017, 7, 31), 0.0)'\n",
      " '('USC00516128', datetime.date(2017, 8, 23), 0.45)'\n"
     ]
    }
   ],
   "source": [
    "precipitation_data = session.query(Station, Measurement).filter(Station.station == Measurement.station).\\\n",
    "filter( Measurement.date >= dt.date(2016,8,23)).\\\n",
    "       filter(Measurement.date <=dt.date(2017,8,23)).\\\n",
    "       group_by(func.strftime(\"%Y-%m\", Measurement.date)).\\\n",
    "       order_by(Measurement.date).all()\n",
    "\n",
    "annual_precipitation = []\n",
    "\n",
    "for record in precipitation_data:\n",
    "    (s,m) = record\n",
    "    annual_precipitation.append([s.station,m.date, m.prcp])\n",
    "    print( f\" '{s.station,m.date, m.prcp}'\")\n"
   ]
  },
  {
   "cell_type": "code",
   "execution_count": 11,
   "metadata": {},
   "outputs": [
    {
     "data": {
      "text/html": [
       "<div>\n",
       "<style scoped>\n",
       "    .dataframe tbody tr th:only-of-type {\n",
       "        vertical-align: middle;\n",
       "    }\n",
       "\n",
       "    .dataframe tbody tr th {\n",
       "        vertical-align: top;\n",
       "    }\n",
       "\n",
       "    .dataframe thead th {\n",
       "        text-align: right;\n",
       "    }\n",
       "</style>\n",
       "<table border=\"1\" class=\"dataframe\">\n",
       "  <thead>\n",
       "    <tr style=\"text-align: right;\">\n",
       "      <th></th>\n",
       "      <th>name</th>\n",
       "      <th>date</th>\n",
       "      <th>prcp</th>\n",
       "    </tr>\n",
       "  </thead>\n",
       "  <tbody>\n",
       "    <tr>\n",
       "      <th>0</th>\n",
       "      <td>USC00516128</td>\n",
       "      <td>2016-08-31</td>\n",
       "      <td>2.46</td>\n",
       "    </tr>\n",
       "    <tr>\n",
       "      <th>1</th>\n",
       "      <td>USC00516128</td>\n",
       "      <td>2016-09-30</td>\n",
       "      <td>0.38</td>\n",
       "    </tr>\n",
       "    <tr>\n",
       "      <th>2</th>\n",
       "      <td>USC00516128</td>\n",
       "      <td>2016-10-31</td>\n",
       "      <td>1.35</td>\n",
       "    </tr>\n",
       "    <tr>\n",
       "      <th>3</th>\n",
       "      <td>USC00516128</td>\n",
       "      <td>2016-11-30</td>\n",
       "      <td>0.79</td>\n",
       "    </tr>\n",
       "    <tr>\n",
       "      <th>4</th>\n",
       "      <td>USC00516128</td>\n",
       "      <td>2016-12-31</td>\n",
       "      <td>0.90</td>\n",
       "    </tr>\n",
       "    <tr>\n",
       "      <th>5</th>\n",
       "      <td>USC00516128</td>\n",
       "      <td>2017-01-31</td>\n",
       "      <td>0.00</td>\n",
       "    </tr>\n",
       "    <tr>\n",
       "      <th>6</th>\n",
       "      <td>USC00516128</td>\n",
       "      <td>2017-02-28</td>\n",
       "      <td>0.58</td>\n",
       "    </tr>\n",
       "    <tr>\n",
       "      <th>7</th>\n",
       "      <td>USC00516128</td>\n",
       "      <td>2017-03-29</td>\n",
       "      <td>0.07</td>\n",
       "    </tr>\n",
       "    <tr>\n",
       "      <th>8</th>\n",
       "      <td>USC00516128</td>\n",
       "      <td>2017-04-30</td>\n",
       "      <td>0.80</td>\n",
       "    </tr>\n",
       "    <tr>\n",
       "      <th>9</th>\n",
       "      <td>USC00516128</td>\n",
       "      <td>2017-05-28</td>\n",
       "      <td>0.00</td>\n",
       "    </tr>\n",
       "    <tr>\n",
       "      <th>10</th>\n",
       "      <td>USC00516128</td>\n",
       "      <td>2017-06-30</td>\n",
       "      <td>0.20</td>\n",
       "    </tr>\n",
       "    <tr>\n",
       "      <th>11</th>\n",
       "      <td>USC00516128</td>\n",
       "      <td>2017-07-31</td>\n",
       "      <td>0.00</td>\n",
       "    </tr>\n",
       "    <tr>\n",
       "      <th>12</th>\n",
       "      <td>USC00516128</td>\n",
       "      <td>2017-08-23</td>\n",
       "      <td>0.45</td>\n",
       "    </tr>\n",
       "  </tbody>\n",
       "</table>\n",
       "</div>"
      ],
      "text/plain": [
       "           name        date  prcp\n",
       "0   USC00516128  2016-08-31  2.46\n",
       "1   USC00516128  2016-09-30  0.38\n",
       "2   USC00516128  2016-10-31  1.35\n",
       "3   USC00516128  2016-11-30  0.79\n",
       "4   USC00516128  2016-12-31  0.90\n",
       "5   USC00516128  2017-01-31  0.00\n",
       "6   USC00516128  2017-02-28  0.58\n",
       "7   USC00516128  2017-03-29  0.07\n",
       "8   USC00516128  2017-04-30  0.80\n",
       "9   USC00516128  2017-05-28  0.00\n",
       "10  USC00516128  2017-06-30  0.20\n",
       "11  USC00516128  2017-07-31  0.00\n",
       "12  USC00516128  2017-08-23  0.45"
      ]
     },
     "execution_count": 11,
     "metadata": {},
     "output_type": "execute_result"
    }
   ],
   "source": [
    "df = pd.DataFrame(annual_precipitation, columns=['name', 'date','prcp'])\n",
    "df"
   ]
  },
  {
   "cell_type": "code",
   "execution_count": 12,
   "metadata": {},
   "outputs": [
    {
     "data": {
      "image/png": "[encoded data removed]",
      "text/plain": [
       "<matplotlib.figure.Figure at 0x223a86344e0>"
      ]
     },
     "metadata": {},
     "output_type": "display_data"
    }
   ],
   "source": [
    "# Plot the Results in a Matplotlib bar chart\n",
    "df = pd.DataFrame(annual_precipitation, columns=['name', 'date','prcp'])\n",
    "df.set_index('date', inplace=True)\n",
    "df.plot.bar()\n",
    "plt.tight_layout()\n",
    "plt.grid()\n",
    "plt.show()"
   ]
  },
  {
   "cell_type": "code",
   "execution_count": 13,
   "metadata": {},
   "outputs": [
    {
     "data": {
      "text/html": [
       "<div>\n",
       "<style scoped>\n",
       "    .dataframe tbody tr th:only-of-type {\n",
       "        vertical-align: middle;\n",
       "    }\n",
       "\n",
       "    .dataframe tbody tr th {\n",
       "        vertical-align: top;\n",
       "    }\n",
       "\n",
       "    .dataframe thead th {\n",
       "        text-align: right;\n",
       "    }\n",
       "</style>\n",
       "<table border=\"1\" class=\"dataframe\">\n",
       "  <thead>\n",
       "    <tr style=\"text-align: right;\">\n",
       "      <th></th>\n",
       "      <th>prcp</th>\n",
       "    </tr>\n",
       "  </thead>\n",
       "  <tbody>\n",
       "    <tr>\n",
       "      <th>count</th>\n",
       "      <td>13.000000</td>\n",
       "    </tr>\n",
       "    <tr>\n",
       "      <th>mean</th>\n",
       "      <td>0.613846</td>\n",
       "    </tr>\n",
       "    <tr>\n",
       "      <th>std</th>\n",
       "      <td>0.693896</td>\n",
       "    </tr>\n",
       "    <tr>\n",
       "      <th>min</th>\n",
       "      <td>0.000000</td>\n",
       "    </tr>\n",
       "    <tr>\n",
       "      <th>25%</th>\n",
       "      <td>0.070000</td>\n",
       "    </tr>\n",
       "    <tr>\n",
       "      <th>50%</th>\n",
       "      <td>0.450000</td>\n",
       "    </tr>\n",
       "    <tr>\n",
       "      <th>75%</th>\n",
       "      <td>0.800000</td>\n",
       "    </tr>\n",
       "    <tr>\n",
       "      <th>max</th>\n",
       "      <td>2.460000</td>\n",
       "    </tr>\n",
       "  </tbody>\n",
       "</table>\n",
       "</div>"
      ],
      "text/plain": [
       "            prcp\n",
       "count  13.000000\n",
       "mean    0.613846\n",
       "std     0.693896\n",
       "min     0.000000\n",
       "25%     0.070000\n",
       "50%     0.450000\n",
       "75%     0.800000\n",
       "max     2.460000"
      ]
     },
     "execution_count": 13,
     "metadata": {},
     "output_type": "execute_result"
    }
   ],
   "source": [
    "df.describe()"
   ]
  },
  {
   "cell_type": "markdown",
   "metadata": {},
   "source": [
    "### Station Analysis"
   ]
  },
  {
   "cell_type": "code",
   "execution_count": 14,
   "metadata": {},
   "outputs": [
    {
     "name": "stdout",
     "output_type": "stream",
     "text": [
      "The total number of stations are: '9'\n"
     ]
    }
   ],
   "source": [
    "# total_number_of_stations\n",
    "total_number_of_stations = session.query(Station, Measurement).\\\n",
    "filter(Station.station == Measurement.station).\\\n",
    "group_by(Measurement.station).count()\n",
    "print(f\"The total number of stations are: '{total_number_of_stations}'\")"
   ]
  },
  {
   "cell_type": "code",
   "execution_count": 15,
   "metadata": {},
   "outputs": [
    {
     "data": {
      "text/html": [
       "<div>\n",
       "<style scoped>\n",
       "    .dataframe tbody tr th:only-of-type {\n",
       "        vertical-align: middle;\n",
       "    }\n",
       "\n",
       "    .dataframe tbody tr th {\n",
       "        vertical-align: top;\n",
       "    }\n",
       "\n",
       "    .dataframe thead th {\n",
       "        text-align: right;\n",
       "    }\n",
       "</style>\n",
       "<table border=\"1\" class=\"dataframe\">\n",
       "  <thead>\n",
       "    <tr style=\"text-align: right;\">\n",
       "      <th></th>\n",
       "      <th>name</th>\n",
       "      <th>#Obs</th>\n",
       "    </tr>\n",
       "  </thead>\n",
       "  <tbody>\n",
       "    <tr>\n",
       "      <th>0</th>\n",
       "      <td>WAIHEE 837.5, HI US</td>\n",
       "      <td>2772</td>\n",
       "    </tr>\n",
       "    <tr>\n",
       "      <th>1</th>\n",
       "      <td>KANEOHE 838.1, HI US</td>\n",
       "      <td>2696</td>\n",
       "    </tr>\n",
       "    <tr>\n",
       "      <th>2</th>\n",
       "      <td>WAIKIKI 717.2, HI US</td>\n",
       "      <td>2685</td>\n",
       "    </tr>\n",
       "    <tr>\n",
       "      <th>3</th>\n",
       "      <td>WAIMANALO EXPERIMENTAL FARM, HI US</td>\n",
       "      <td>2572</td>\n",
       "    </tr>\n",
       "    <tr>\n",
       "      <th>4</th>\n",
       "      <td>MANOA LYON ARBO 785.2, HI US</td>\n",
       "      <td>2484</td>\n",
       "    </tr>\n",
       "    <tr>\n",
       "      <th>5</th>\n",
       "      <td>KUALOA RANCH HEADQUARTERS 886.9, HI US</td>\n",
       "      <td>1937</td>\n",
       "    </tr>\n",
       "    <tr>\n",
       "      <th>6</th>\n",
       "      <td>HONOLULU OBSERVATORY 702.2, HI US</td>\n",
       "      <td>1932</td>\n",
       "    </tr>\n",
       "    <tr>\n",
       "      <th>7</th>\n",
       "      <td>PEARL CITY, HI US</td>\n",
       "      <td>683</td>\n",
       "    </tr>\n",
       "    <tr>\n",
       "      <th>8</th>\n",
       "      <td>UPPER WAHIAWA 874.3, HI US</td>\n",
       "      <td>342</td>\n",
       "    </tr>\n",
       "  </tbody>\n",
       "</table>\n",
       "</div>"
      ],
      "text/plain": [
       "                                     name  #Obs\n",
       "0                     WAIHEE 837.5, HI US  2772\n",
       "1                    KANEOHE 838.1, HI US  2696\n",
       "2                    WAIKIKI 717.2, HI US  2685\n",
       "3      WAIMANALO EXPERIMENTAL FARM, HI US  2572\n",
       "4            MANOA LYON ARBO 785.2, HI US  2484\n",
       "5  KUALOA RANCH HEADQUARTERS 886.9, HI US  1937\n",
       "6       HONOLULU OBSERVATORY 702.2, HI US  1932\n",
       "7                       PEARL CITY, HI US   683\n",
       "8              UPPER WAHIAWA 874.3, HI US   342"
      ]
     },
     "execution_count": 15,
     "metadata": {},
     "output_type": "execute_result"
    }
   ],
   "source": [
    "# most_active_stations\n",
    "Measurement_list = session.query(Station.name,func.count(Measurement.date).label('#Obs')).\\\n",
    "filter(Station.station == Measurement.station).\\\n",
    "group_by(Measurement.station).\\\n",
    "order_by(func.count(Measurement.tobs).desc()).all()\n",
    "\n",
    "\n",
    "# tests = [result for result in Measurement_list]\n",
    "most_active_stations_df = pd.DataFrame(Measurement_list)\n",
    "most_active_stations_df\n"
   ]
  },
  {
   "cell_type": "markdown",
   "metadata": {},
   "source": [
    "#### WAIHEE had highest number of observations"
   ]
  },
  {
   "cell_type": "code",
   "execution_count": 16,
   "metadata": {},
   "outputs": [
    {
     "data": {
      "image/png": "[encoded data removed]",
      "text/plain": [
       "<matplotlib.figure.Figure at 0x223a87fbbe0>"
      ]
     },
     "metadata": {},
     "output_type": "display_data"
    }
   ],
   "source": [
    "#Therefore, last 12 months would be from '2016-08-23' to '2017-08-23'\n",
    "twelve_month_precipitation_data = session.query(Measurement.tobs).filter(Station.station == Measurement.station).\\\n",
    "    filter( Measurement.date >= dt.date(2016,8,23)).\\\n",
    "    filter(Measurement.date <=dt.date(2017,8,23)).\\\n",
    "    filter(Station.name == 'WAIHEE 837.5, HI US').all()\n",
    "    \n",
    "twelve_month_precipitation_data_list = [result for result in twelve_month_precipitation_data]\n",
    "twelve_month_precipitation_data_list\n",
    "\n",
    "sns.set(style=\"whitegrid\")\n",
    "f, ax = plt.subplots(figsize=(6, 6))\n",
    "\n",
    "sns.distplot(twelve_month_precipitation_data_list, bins=20, kde=False,label=\"Temperature Observations\");\n",
    "\n",
    "ax.legend(ncol=2, loc=\"upper right\", frameon=True);\n",
    "ax.set(title=\"WAIHEE Station Observations\", ylabel=\"Frequency\",xlabel=\"Temperature, F\");\n",
    "\n"
   ]
  },
  {
   "cell_type": "markdown",
   "metadata": {},
   "source": [
    "### Temperature Analysis"
   ]
  },
  {
   "cell_type": "code",
   "execution_count": 17,
   "metadata": {},
   "outputs": [
    {
     "name": "stdout",
     "output_type": "stream",
     "text": [
      "Query Date:  strftime(:strftime_1, :strftime_2) - :strftime_3\n"
     ]
    }
   ],
   "source": [
    "def calc_temps(start_date, end_date):\n",
    "    return func.strftime(\"%Y-%m\", start_date)\n",
    "calc_temps(\"2016-03-4\",\"2016-03-4\")\n",
    "\n",
    "query_date = func.strftime(\"%Y-%m\", start_date) - dt.timedelta(days=365)\n",
    "print(\"Query Date: \", query_date)"
   ]
  },
  {
   "cell_type": "code",
   "execution_count": 18,
   "metadata": {},
   "outputs": [
    {
     "data": {
      "text/plain": [
       "(86.0, 53.0, 73.07489214840379)"
      ]
     },
     "execution_count": 18,
     "metadata": {},
     "output_type": "execute_result"
    }
   ],
   "source": [
    "#assumes format `%Y-%m-%d`\n",
    "def calc_temps(start_date, end_date):\n",
    "    result = session.query(func.max(Measurement.tobs),func.min(Measurement.tobs),func.avg(Measurement.tobs)).\\\n",
    "        filter(Measurement.date >= start_date).\\\n",
    "        filter(Measurement.date <= end_date).first()        \n",
    "    return result\n",
    "\n",
    "calc_temps(\"2011-3-4\",\"2016-7-4\")"
   ]
  },
  {
   "cell_type": "code",
   "execution_count": 19,
   "metadata": {},
   "outputs": [
    {
     "data": {
      "text/plain": [
       "(81.0, 67.0, 74.48407643312102)"
      ]
     },
     "execution_count": 19,
     "metadata": {},
     "output_type": "execute_result"
    }
   ],
   "source": [
    "trip_stats = calc_temps(\"2011-06-15\",\"2011-07-4\")\n",
    "trip_stats"
   ]
  },
  {
   "cell_type": "code",
   "execution_count": 20,
   "metadata": {},
   "outputs": [
    {
     "data": {
      "text/plain": [
       "(87.0, 58.0, 73.67077922077922)"
      ]
     },
     "execution_count": 20,
     "metadata": {},
     "output_type": "execute_result"
    }
   ],
   "source": [
    "# calc the prior year\n",
    "prior_year_trip_stats = calc_temps(\"2010-06-15\",\"2010-7-4\")\n",
    "prior_year_trip_stats"
   ]
  },
  {
   "cell_type": "code",
   "execution_count": 21,
   "metadata": {},
   "outputs": [
    {
     "data": {
      "image/png": "[encoded data removed]",
      "text/plain": [
       "<matplotlib.figure.Figure at 0x223a86342e8>"
      ]
     },
     "metadata": {},
     "output_type": "display_data"
    }
   ],
   "source": [
    "f, ax = plt.subplots(figsize=(6, 6))\n",
    "ax.bar(1,prior_year_trip_stats[2], yerr=prior_year_trip_stats[1]-prior_year_trip_stats[0], align='center',color='orange', ecolor='black');\n",
    "ax.set(title=\"Trip Average Temperature\", ylabel=\"Temperature, F\",xlabel=\"\");"
   ]
  },
  {
   "cell_type": "code",
   "execution_count": null,
   "metadata": {},
   "outputs": [],
   "source": []
  }
 ],
 "metadata": {
  "kernelspec": {
   "display_name": "Python 3",
   "language": "python",
   "name": "python3"
  },
  "language_info": {
   "codemirror_mode": {
    "name": "ipython",
    "version": 3
   },
   "file_extension": ".py",
   "mimetype": "text/x-python",
   "name": "python",
   "nbconvert_exporter": "python",
   "pygments_lexer": "ipython3",
   "version": "3.6.4"
  }
 },
 "nbformat": 4,
 "nbformat_minor": 2
}
